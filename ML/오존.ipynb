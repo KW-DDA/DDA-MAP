{
 "cells": [
  {
   "cell_type": "code",
   "execution_count": 1,
   "metadata": {},
   "outputs": [],
   "source": [
    "import xlrd\n",
    "import openpyxl\n",
    "import pandas as pd\n",
    "import matplotlib as mpl\n",
    "import matplotlib.pyplot as plt\n",
    "import seaborn as sns\n",
    "import numpy as np\n",
    "import warnings\n",
    "import string\n",
    "import os\n",
    "import natsort\n",
    "warnings.filterwarnings('ignore')"
   ]
  },
  {
   "cell_type": "code",
   "execution_count": 2,
   "metadata": {},
   "outputs": [],
   "source": [
    "gu_ko=['서울시 평균','강남구', '강동구', '강북구', '강서구', '관악구', '광진구', '구로구', \n",
    "       '금천구', '노원구', '도봉구', '동대문구', '동작구', '마포구', '서대문구', \n",
    "       '서초구', '성동구', '성북구', '송파구', '양천구', '영등포구', '용산구', \n",
    "       '은평구', '종로구', '중구', '중랑구']"
   ]
  },
  {
   "cell_type": "code",
   "execution_count": 3,
   "metadata": {},
   "outputs": [
    {
     "name": "stdout",
     "output_type": "stream",
     "text": [
      "원하는 년도 입력: 2020\n"
     ]
    }
   ],
   "source": [
    "year = input(\"원하는 년도 입력: \")\n",
    "path_dir = \"오존데이터/오존_\" + year +\"/\"\n",
    "file_list = os.listdir(path_dir)\n",
    "\n",
    "ordered_file_list = natsort.natsorted(file_list)\n",
    "\n",
    "length = len(file_list)\n",
    "\n",
    "for i in range(0, length):\n",
    "    globals()[\"ozone_xlsx_{}\".format(i)] = pd.read_excel(path_dir+ordered_file_list[i]) #xlsx 파일 읽기\n",
    "    globals()[\"ozone_xlsx_{}\".format(i)].drop([globals()[\"ozone_xlsx_{}\".format(i)].index[0], globals()[\"ozone_xlsx_{}\".format(i)].index[1], globals()[\"ozone_xlsx_{}\".format(i)].index[2]], axis=0, inplace=True) #필요없는 행 제거\n",
    "    globals()[\"ozone_xlsx_{}\".format(i)] = globals()[\"ozone_xlsx_{}\".format(i)].set_index(\"기간별 통계 ( 일별 평균 )\") #index 제거\n",
    "    \n",
    "    file_name = path_dir+year+\"_\"+str(i+1)\n",
    "    globals()[\"ozone_xlsx_{}\".format(i)].to_csv(file_name+\".csv\", encoding='cp949', header = None) #csv로 저장\n",
    "    globals()[\"ozone_{}\".format(i+1)] = pd.read_csv(file_name+\".csv\", encoding='cp949') #csv로 다시 읽기"
   ]
  },
  {
   "cell_type": "code",
   "execution_count": 4,
   "metadata": {},
   "outputs": [],
   "source": [
    "for i in range(1, length+1):\n",
    "    for j in range(31, 1, -1):\n",
    "        if globals()[\"ozone_{}\".format(i)][\"{}일\".format(j)].isnull().sum() == len(globals()['ozone_{}'.format(i)]):\n",
    "            globals()[\"ozone_{}\".format(i)].drop([\"{}일\".format(j)], axis=1, inplace=True)\n",
    "        else:\n",
    "            break"
   ]
  },
  {
   "cell_type": "code",
   "execution_count": 5,
   "metadata": {},
   "outputs": [],
   "source": [
    "for i in range(1, length+1):\n",
    "    globals()[\"ozone_{}\".format(i)].drop([\"Unnamed: 1\"], axis=1, inplace=True)"
   ]
  },
  {
   "cell_type": "code",
   "execution_count": 6,
   "metadata": {},
   "outputs": [],
   "source": [
    "for i in range(1, length+1):\n",
    "    globals()[\"ozone_{}\".format(i)]=globals()[\"ozone_{}\".format(i)].transpose()\n",
    "    globals()[\"ozone_{}\".format(i)]=globals()[\"ozone_{}\".format(i)].rename(columns=globals()[\"ozone_{}\".format(i)].iloc[0])\n",
    "    globals()[\"ozone_{}\".format(i)]=globals()[\"ozone_{}\".format(i)] = globals()[\"ozone_{}\".format(i)]=globals()[\"ozone_{}\".format(i)].drop(globals()[\"ozone_{}\".format(i)].index[0])\n",
    "    globals()[\"ozone_{}\".format(i)].reset_index(drop=True, inplace=True)"
   ]
  },
  {
   "cell_type": "code",
   "execution_count": 7,
   "metadata": {},
   "outputs": [],
   "source": [
    "for i in range(1, length+1):\n",
    "    globals()[\"ozone_{}\".format(i)]['년'] = year\n",
    "    globals()[\"ozone_{}\".format(i)]['월'] = i\n",
    "    globals()[\"ozone_{}\".format(i)]['일'] = range(1, len(globals()[\"ozone_{}\".format(i)])+1)"
   ]
  },
  {
   "cell_type": "code",
   "execution_count": 8,
   "metadata": {},
   "outputs": [],
   "source": [
    "ozone = pd.DataFrame(columns=['년','월','일','오존','자치구'])"
   ]
  },
  {
   "cell_type": "code",
   "execution_count": 9,
   "metadata": {
    "scrolled": true
   },
   "outputs": [
    {
     "data": {
      "text/html": [
       "<div>\n",
       "<style scoped>\n",
       "    .dataframe tbody tr th:only-of-type {\n",
       "        vertical-align: middle;\n",
       "    }\n",
       "\n",
       "    .dataframe tbody tr th {\n",
       "        vertical-align: top;\n",
       "    }\n",
       "\n",
       "    .dataframe thead th {\n",
       "        text-align: right;\n",
       "    }\n",
       "</style>\n",
       "<table border=\"1\" class=\"dataframe\">\n",
       "  <thead>\n",
       "    <tr style=\"text-align: right;\">\n",
       "      <th></th>\n",
       "      <th>년</th>\n",
       "      <th>월</th>\n",
       "      <th>일</th>\n",
       "      <th>오존</th>\n",
       "      <th>자치구</th>\n",
       "    </tr>\n",
       "  </thead>\n",
       "  <tbody>\n",
       "    <tr>\n",
       "      <th>0</th>\n",
       "      <td>2020</td>\n",
       "      <td>1</td>\n",
       "      <td>1</td>\n",
       "      <td>0.004</td>\n",
       "      <td>서울시 평균</td>\n",
       "    </tr>\n",
       "    <tr>\n",
       "      <th>1</th>\n",
       "      <td>2020</td>\n",
       "      <td>1</td>\n",
       "      <td>2</td>\n",
       "      <td>0.004</td>\n",
       "      <td>서울시 평균</td>\n",
       "    </tr>\n",
       "    <tr>\n",
       "      <th>2</th>\n",
       "      <td>2020</td>\n",
       "      <td>1</td>\n",
       "      <td>3</td>\n",
       "      <td>0.009</td>\n",
       "      <td>서울시 평균</td>\n",
       "    </tr>\n",
       "    <tr>\n",
       "      <th>3</th>\n",
       "      <td>2020</td>\n",
       "      <td>1</td>\n",
       "      <td>4</td>\n",
       "      <td>0.011</td>\n",
       "      <td>서울시 평균</td>\n",
       "    </tr>\n",
       "    <tr>\n",
       "      <th>4</th>\n",
       "      <td>2020</td>\n",
       "      <td>1</td>\n",
       "      <td>5</td>\n",
       "      <td>0.008</td>\n",
       "      <td>서울시 평균</td>\n",
       "    </tr>\n",
       "    <tr>\n",
       "      <th>...</th>\n",
       "      <td>...</td>\n",
       "      <td>...</td>\n",
       "      <td>...</td>\n",
       "      <td>...</td>\n",
       "      <td>...</td>\n",
       "    </tr>\n",
       "    <tr>\n",
       "      <th>9511</th>\n",
       "      <td>2020</td>\n",
       "      <td>12</td>\n",
       "      <td>27</td>\n",
       "      <td>0.013</td>\n",
       "      <td>중랑구</td>\n",
       "    </tr>\n",
       "    <tr>\n",
       "      <th>9512</th>\n",
       "      <td>2020</td>\n",
       "      <td>12</td>\n",
       "      <td>28</td>\n",
       "      <td>0.006</td>\n",
       "      <td>중랑구</td>\n",
       "    </tr>\n",
       "    <tr>\n",
       "      <th>9513</th>\n",
       "      <td>2020</td>\n",
       "      <td>12</td>\n",
       "      <td>29</td>\n",
       "      <td>0.011</td>\n",
       "      <td>중랑구</td>\n",
       "    </tr>\n",
       "    <tr>\n",
       "      <th>9514</th>\n",
       "      <td>2020</td>\n",
       "      <td>12</td>\n",
       "      <td>30</td>\n",
       "      <td>0.019</td>\n",
       "      <td>중랑구</td>\n",
       "    </tr>\n",
       "    <tr>\n",
       "      <th>9515</th>\n",
       "      <td>2020</td>\n",
       "      <td>12</td>\n",
       "      <td>31</td>\n",
       "      <td>0.015</td>\n",
       "      <td>중랑구</td>\n",
       "    </tr>\n",
       "  </tbody>\n",
       "</table>\n",
       "<p>9516 rows × 5 columns</p>\n",
       "</div>"
      ],
      "text/plain": [
       "         년   월   일     오존     자치구\n",
       "0     2020   1   1  0.004  서울시 평균\n",
       "1     2020   1   2  0.004  서울시 평균\n",
       "2     2020   1   3  0.009  서울시 평균\n",
       "3     2020   1   4  0.011  서울시 평균\n",
       "4     2020   1   5  0.008  서울시 평균\n",
       "...    ...  ..  ..    ...     ...\n",
       "9511  2020  12  27  0.013     중랑구\n",
       "9512  2020  12  28  0.006     중랑구\n",
       "9513  2020  12  29  0.011     중랑구\n",
       "9514  2020  12  30  0.019     중랑구\n",
       "9515  2020  12  31  0.015     중랑구\n",
       "\n",
       "[9516 rows x 5 columns]"
      ]
     },
     "execution_count": 9,
     "metadata": {},
     "output_type": "execute_result"
    }
   ],
   "source": [
    "for i in range(1, length+1):\n",
    "    average=globals()[\"ozone_{}\".format(i)]['서울시 평균'].to_list()\n",
    "    for j in range(0, len(gu_ko)):\n",
    "        temp = globals()[\"ozone_{}\".format(i)][['년','월','일',gu_ko[j]]]\n",
    "        temp = temp.rename(columns={gu_ko[j]: \"오존\"})\n",
    "        temp['오존'].fillna(value=pd.Series(average), inplace=True) #결측치 서울시 평균으로 채우기\n",
    "        temp['자치구'] = gu_ko[j]\n",
    "        \n",
    "        ozone = ozone.append(temp)\n",
    "        del temp\n",
    "    \n",
    "ozone.reset_index(drop=True, inplace=True)\n",
    "ozone"
   ]
  },
  {
   "cell_type": "code",
   "execution_count": 10,
   "metadata": {},
   "outputs": [],
   "source": [
    "degree = pd.DataFrame(columns=['등급'])"
   ]
  },
  {
   "cell_type": "code",
   "execution_count": 11,
   "metadata": {},
   "outputs": [],
   "source": [
    "ozone = ozone.append(degree) \n",
    "o_len = len(ozone)\n",
    "\n",
    "for i in range(0, o_len):\n",
    "    if ozone['오존'][i] >= 0 and ozone['오존'][i] <= 0.030:\n",
    "        ozone['등급'][i] = '좋음'\n",
    "    elif ozone['오존'][i] >= 0.031 and ozone['오존'][i] <= 0.090:\n",
    "        ozone['등급'][i] = '보통'\n",
    "    elif ozone['오존'][i] >= 0.091 and ozone['오존'][i] <= 0.150:\n",
    "        ozone['등급'][i] = '나쁨'\n",
    "    elif ozone['오존'][i] >= 0.051:\n",
    "        ozone['등급'][i] = '매우나쁨'"
   ]
  },
  {
   "cell_type": "code",
   "execution_count": 12,
   "metadata": {},
   "outputs": [],
   "source": [
    "ozone.drop(['오존'], axis=1, inplace=True)\n",
    "ozone.rename(columns={'등급': '오존'}, inplace=True)"
   ]
  },
  {
   "cell_type": "code",
   "execution_count": 13,
   "metadata": {},
   "outputs": [],
   "source": [
    "ozone.to_csv(\"오존데이터/오존/\"+year+\"_오존\"+\".csv\", encoding='cp949', index=False) # csv로 저장"
   ]
  }
 ],
 "metadata": {
  "kernelspec": {
   "display_name": "Python 3",
   "language": "python",
   "name": "python3"
  },
  "language_info": {
   "codemirror_mode": {
    "name": "ipython",
    "version": 3
   },
   "file_extension": ".py",
   "mimetype": "text/x-python",
   "name": "python",
   "nbconvert_exporter": "python",
   "pygments_lexer": "ipython3",
   "version": "3.8.5"
  }
 },
 "nbformat": 4,
 "nbformat_minor": 4
}
