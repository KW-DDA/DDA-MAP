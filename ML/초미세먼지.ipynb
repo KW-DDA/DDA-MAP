{
 "cells": [
  {
   "cell_type": "code",
   "execution_count": 1,
   "metadata": {},
   "outputs": [],
   "source": [
    "import pandas as pd\n",
    "import matplotlib as mpl\n",
    "import matplotlib.pyplot as plt\n",
    "import seaborn as sns\n",
    "import numpy as np\n",
    "import warnings\n",
    "import string\n",
    "import os\n",
    "warnings.filterwarnings('ignore')"
   ]
  },
  {
   "cell_type": "markdown",
   "metadata": {},
   "source": [
    "# 원본 날씨 데이터 가져오기"
   ]
  },
  {
   "cell_type": "code",
   "execution_count": 2,
   "metadata": {},
   "outputs": [
    {
     "name": "stdout",
     "output_type": "stream",
     "text": [
      "정리할 년도를 입력하세요 : 2020\n"
     ]
    }
   ],
   "source": [
    "year=input('정리할 년도를 입력하세요 : ')"
   ]
  },
  {
   "cell_type": "code",
   "execution_count": 3,
   "metadata": {},
   "outputs": [
    {
     "name": "stdout",
     "output_type": "stream",
     "text": [
      "complete load : 2020년 1월\n",
      "complete load : 2020년 2월\n",
      "complete load : 2020년 3월\n",
      "complete load : 2020년 4월\n",
      "complete load : 2020년 5월\n",
      "complete load : 2020년 6월\n",
      "complete load : 2020년 7월\n",
      "complete load : 2020년 8월\n",
      "complete load : 2020년 9월\n",
      "complete load : 2020년 10월\n",
      "complete load : 2020년 11월\n",
      "complete load : 2020년 12월\n"
     ]
    }
   ],
   "source": [
    "path_dir = \"data/원본_초미세먼지/\"\n",
    "file_list = os.listdir(path_dir)\n",
    "file_list = [x for x in file_list if year in x]\n",
    "length=len(file_list)\n",
    "for i in range(1,length+1):\n",
    "    globals()[\"weather_{}\".format(i)] = pd.read_csv(path_dir+\"{}_{}.csv\".format(year,i), encoding='cp949')\n",
    "    print(\"complete load : {}년 {}월\".format(year,i))"
   ]
  },
  {
   "cell_type": "code",
   "execution_count": 4,
   "metadata": {},
   "outputs": [],
   "source": [
    "gu_ko=['서울시 평균','강남구', '강동구', '강북구', '강서구', '관악구', '광진구', '구로구', \n",
    "       '금천구', '노원구', '도봉구', '동대문구', '동작구', '마포구', '서대문구', \n",
    "       '서초구', '성동구', '성북구', '송파구', '양천구', '영등포구', '용산구', \n",
    "       '은평구', '종로구', '중구', '중랑구']"
   ]
  },
  {
   "cell_type": "markdown",
   "metadata": {},
   "source": [
    "# 행 열 전환"
   ]
  },
  {
   "cell_type": "code",
   "execution_count": 5,
   "metadata": {},
   "outputs": [],
   "source": [
    "for i in range(1,length+1):\n",
    "    for j in range(31,1,-1):\n",
    "        if globals()[\"weather_{}\".format(i)][\"{}일\".format(j)].isnull().sum()==len(globals()[\"weather_{}\".format(i)]):\n",
    "            globals()[\"weather_{}\".format(i)].drop([\"{}일\".format(j)], axis=1, inplace=True)\n",
    "        else:\n",
    "            break"
   ]
  },
  {
   "cell_type": "code",
   "execution_count": 6,
   "metadata": {},
   "outputs": [],
   "source": [
    "for i in range(1,length+1):\n",
    "    globals()[\"weather_{}\".format(i)]=globals()[\"weather_{}\".format(i)].transpose()\n",
    "    globals()[\"weather_{}\".format(i)].rename(columns=globals()[\"weather_{}\".format(i)].iloc[0],inplace=True)\n",
    "    globals()[\"weather_{}\".format(i)] = globals()[\"weather_{}\".format(i)].drop(globals()[\"weather_{}\".format(i)].index[0])\n",
    "    globals()[\"weather_{}\".format(i)].reset_index(drop=True, inplace=True)"
   ]
  },
  {
   "cell_type": "markdown",
   "metadata": {},
   "source": [
    "# 년 월 일 추가"
   ]
  },
  {
   "cell_type": "code",
   "execution_count": 7,
   "metadata": {},
   "outputs": [],
   "source": [
    "for i in range(1,length+1):\n",
    "    globals()[\"weather_{}\".format(i)]['년']=year\n",
    "    globals()[\"weather_{}\".format(i)]['월']=i\n",
    "    globals()[\"weather_{}\".format(i)]['일']=range(1,len(globals()[\"weather_{}\".format(i)])+1)"
   ]
  },
  {
   "cell_type": "code",
   "execution_count": 8,
   "metadata": {},
   "outputs": [],
   "source": [
    "result=pd.DataFrame(columns=['년','월','일','초미세먼지','자치구'])"
   ]
  },
  {
   "cell_type": "code",
   "execution_count": 9,
   "metadata": {},
   "outputs": [
    {
     "data": {
      "text/html": [
       "<div>\n",
       "<style scoped>\n",
       "    .dataframe tbody tr th:only-of-type {\n",
       "        vertical-align: middle;\n",
       "    }\n",
       "\n",
       "    .dataframe tbody tr th {\n",
       "        vertical-align: top;\n",
       "    }\n",
       "\n",
       "    .dataframe thead th {\n",
       "        text-align: right;\n",
       "    }\n",
       "</style>\n",
       "<table border=\"1\" class=\"dataframe\">\n",
       "  <thead>\n",
       "    <tr style=\"text-align: right;\">\n",
       "      <th></th>\n",
       "      <th>년</th>\n",
       "      <th>월</th>\n",
       "      <th>일</th>\n",
       "      <th>초미세먼지</th>\n",
       "      <th>자치구</th>\n",
       "    </tr>\n",
       "  </thead>\n",
       "  <tbody>\n",
       "    <tr>\n",
       "      <th>0</th>\n",
       "      <td>2020</td>\n",
       "      <td>1</td>\n",
       "      <td>1</td>\n",
       "      <td>23.0</td>\n",
       "      <td>서울시 평균</td>\n",
       "    </tr>\n",
       "    <tr>\n",
       "      <th>1</th>\n",
       "      <td>2020</td>\n",
       "      <td>1</td>\n",
       "      <td>2</td>\n",
       "      <td>40.0</td>\n",
       "      <td>서울시 평균</td>\n",
       "    </tr>\n",
       "    <tr>\n",
       "      <th>2</th>\n",
       "      <td>2020</td>\n",
       "      <td>1</td>\n",
       "      <td>3</td>\n",
       "      <td>47.0</td>\n",
       "      <td>서울시 평균</td>\n",
       "    </tr>\n",
       "    <tr>\n",
       "      <th>3</th>\n",
       "      <td>2020</td>\n",
       "      <td>1</td>\n",
       "      <td>4</td>\n",
       "      <td>38.0</td>\n",
       "      <td>서울시 평균</td>\n",
       "    </tr>\n",
       "    <tr>\n",
       "      <th>4</th>\n",
       "      <td>2020</td>\n",
       "      <td>1</td>\n",
       "      <td>5</td>\n",
       "      <td>36.0</td>\n",
       "      <td>서울시 평균</td>\n",
       "    </tr>\n",
       "    <tr>\n",
       "      <th>...</th>\n",
       "      <td>...</td>\n",
       "      <td>...</td>\n",
       "      <td>...</td>\n",
       "      <td>...</td>\n",
       "      <td>...</td>\n",
       "    </tr>\n",
       "    <tr>\n",
       "      <th>9511</th>\n",
       "      <td>2020</td>\n",
       "      <td>12</td>\n",
       "      <td>27</td>\n",
       "      <td>36.0</td>\n",
       "      <td>중랑구</td>\n",
       "    </tr>\n",
       "    <tr>\n",
       "      <th>9512</th>\n",
       "      <td>2020</td>\n",
       "      <td>12</td>\n",
       "      <td>28</td>\n",
       "      <td>40.0</td>\n",
       "      <td>중랑구</td>\n",
       "    </tr>\n",
       "    <tr>\n",
       "      <th>9513</th>\n",
       "      <td>2020</td>\n",
       "      <td>12</td>\n",
       "      <td>29</td>\n",
       "      <td>37.0</td>\n",
       "      <td>중랑구</td>\n",
       "    </tr>\n",
       "    <tr>\n",
       "      <th>9514</th>\n",
       "      <td>2020</td>\n",
       "      <td>12</td>\n",
       "      <td>30</td>\n",
       "      <td>13.0</td>\n",
       "      <td>중랑구</td>\n",
       "    </tr>\n",
       "    <tr>\n",
       "      <th>9515</th>\n",
       "      <td>2020</td>\n",
       "      <td>12</td>\n",
       "      <td>31</td>\n",
       "      <td>10.0</td>\n",
       "      <td>중랑구</td>\n",
       "    </tr>\n",
       "  </tbody>\n",
       "</table>\n",
       "<p>9516 rows × 5 columns</p>\n",
       "</div>"
      ],
      "text/plain": [
       "         년   월   일  초미세먼지     자치구\n",
       "0     2020   1   1   23.0  서울시 평균\n",
       "1     2020   1   2   40.0  서울시 평균\n",
       "2     2020   1   3   47.0  서울시 평균\n",
       "3     2020   1   4   38.0  서울시 평균\n",
       "4     2020   1   5   36.0  서울시 평균\n",
       "...    ...  ..  ..    ...     ...\n",
       "9511  2020  12  27   36.0     중랑구\n",
       "9512  2020  12  28   40.0     중랑구\n",
       "9513  2020  12  29   37.0     중랑구\n",
       "9514  2020  12  30   13.0     중랑구\n",
       "9515  2020  12  31   10.0     중랑구\n",
       "\n",
       "[9516 rows x 5 columns]"
      ]
     },
     "execution_count": 9,
     "metadata": {},
     "output_type": "execute_result"
    }
   ],
   "source": [
    "for i in range(1,length+1):\n",
    "    average=globals()[\"weather_{}\".format(i)]['서울시 평균'].to_list()\n",
    "    for j in range(0,len(gu_ko)):\n",
    "        temp=globals()[\"weather_{}\".format(i)][['년','월','일',gu_ko[j]]]\n",
    "        temp=temp.rename(columns={gu_ko[j]:\"초미세먼지\"})\n",
    "        temp['초미세먼지'].fillna(value=pd.Series(average),inplace=True) #결측치 서울시 평균으로 채우기\n",
    "        temp['자치구']=gu_ko[j]\n",
    "        result=result.append(temp)\n",
    "        del temp\n",
    "result.reset_index(drop=True, inplace=True)\n",
    "result"
   ]
  },
  {
   "cell_type": "markdown",
   "metadata": {},
   "source": [
    "# 등급 나누기"
   ]
  },
  {
   "cell_type": "code",
   "execution_count": 10,
   "metadata": {},
   "outputs": [
    {
     "data": {
      "text/plain": [
       "0"
      ]
     },
     "execution_count": 10,
     "metadata": {},
     "output_type": "execute_result"
    }
   ],
   "source": [
    "result['초미세먼지'].isnull().sum()"
   ]
  },
  {
   "cell_type": "code",
   "execution_count": 11,
   "metadata": {},
   "outputs": [],
   "source": [
    "result['초미세먼지']=result['초미세먼지'].astype(float)"
   ]
  },
  {
   "cell_type": "code",
   "execution_count": 12,
   "metadata": {},
   "outputs": [],
   "source": [
    "result.loc[(result.초미세먼지>=0) & (result.초미세먼지<=15),'등급']='좋음'\n",
    "result.loc[(result.초미세먼지>15) & (result.초미세먼지<=35),'등급']='보통'\n",
    "result.loc[(result.초미세먼지>35) & (result.초미세먼지<=75),'등급']='나쁨'\n",
    "result.loc[(result.초미세먼지>75),'등급']='매우나쁨'"
   ]
  },
  {
   "cell_type": "code",
   "execution_count": 13,
   "metadata": {},
   "outputs": [
    {
     "data": {
      "text/html": [
       "<div>\n",
       "<style scoped>\n",
       "    .dataframe tbody tr th:only-of-type {\n",
       "        vertical-align: middle;\n",
       "    }\n",
       "\n",
       "    .dataframe tbody tr th {\n",
       "        vertical-align: top;\n",
       "    }\n",
       "\n",
       "    .dataframe thead th {\n",
       "        text-align: right;\n",
       "    }\n",
       "</style>\n",
       "<table border=\"1\" class=\"dataframe\">\n",
       "  <thead>\n",
       "    <tr style=\"text-align: right;\">\n",
       "      <th></th>\n",
       "      <th>년</th>\n",
       "      <th>월</th>\n",
       "      <th>일</th>\n",
       "      <th>자치구</th>\n",
       "      <th>초미세먼지</th>\n",
       "    </tr>\n",
       "  </thead>\n",
       "  <tbody>\n",
       "    <tr>\n",
       "      <th>0</th>\n",
       "      <td>2020</td>\n",
       "      <td>1</td>\n",
       "      <td>1</td>\n",
       "      <td>서울시 평균</td>\n",
       "      <td>보통</td>\n",
       "    </tr>\n",
       "    <tr>\n",
       "      <th>1</th>\n",
       "      <td>2020</td>\n",
       "      <td>1</td>\n",
       "      <td>2</td>\n",
       "      <td>서울시 평균</td>\n",
       "      <td>나쁨</td>\n",
       "    </tr>\n",
       "    <tr>\n",
       "      <th>2</th>\n",
       "      <td>2020</td>\n",
       "      <td>1</td>\n",
       "      <td>3</td>\n",
       "      <td>서울시 평균</td>\n",
       "      <td>나쁨</td>\n",
       "    </tr>\n",
       "    <tr>\n",
       "      <th>3</th>\n",
       "      <td>2020</td>\n",
       "      <td>1</td>\n",
       "      <td>4</td>\n",
       "      <td>서울시 평균</td>\n",
       "      <td>나쁨</td>\n",
       "    </tr>\n",
       "    <tr>\n",
       "      <th>4</th>\n",
       "      <td>2020</td>\n",
       "      <td>1</td>\n",
       "      <td>5</td>\n",
       "      <td>서울시 평균</td>\n",
       "      <td>나쁨</td>\n",
       "    </tr>\n",
       "    <tr>\n",
       "      <th>...</th>\n",
       "      <td>...</td>\n",
       "      <td>...</td>\n",
       "      <td>...</td>\n",
       "      <td>...</td>\n",
       "      <td>...</td>\n",
       "    </tr>\n",
       "    <tr>\n",
       "      <th>9511</th>\n",
       "      <td>2020</td>\n",
       "      <td>12</td>\n",
       "      <td>27</td>\n",
       "      <td>중랑구</td>\n",
       "      <td>나쁨</td>\n",
       "    </tr>\n",
       "    <tr>\n",
       "      <th>9512</th>\n",
       "      <td>2020</td>\n",
       "      <td>12</td>\n",
       "      <td>28</td>\n",
       "      <td>중랑구</td>\n",
       "      <td>나쁨</td>\n",
       "    </tr>\n",
       "    <tr>\n",
       "      <th>9513</th>\n",
       "      <td>2020</td>\n",
       "      <td>12</td>\n",
       "      <td>29</td>\n",
       "      <td>중랑구</td>\n",
       "      <td>나쁨</td>\n",
       "    </tr>\n",
       "    <tr>\n",
       "      <th>9514</th>\n",
       "      <td>2020</td>\n",
       "      <td>12</td>\n",
       "      <td>30</td>\n",
       "      <td>중랑구</td>\n",
       "      <td>좋음</td>\n",
       "    </tr>\n",
       "    <tr>\n",
       "      <th>9515</th>\n",
       "      <td>2020</td>\n",
       "      <td>12</td>\n",
       "      <td>31</td>\n",
       "      <td>중랑구</td>\n",
       "      <td>좋음</td>\n",
       "    </tr>\n",
       "  </tbody>\n",
       "</table>\n",
       "<p>9516 rows × 5 columns</p>\n",
       "</div>"
      ],
      "text/plain": [
       "         년   월   일     자치구 초미세먼지\n",
       "0     2020   1   1  서울시 평균    보통\n",
       "1     2020   1   2  서울시 평균    나쁨\n",
       "2     2020   1   3  서울시 평균    나쁨\n",
       "3     2020   1   4  서울시 평균    나쁨\n",
       "4     2020   1   5  서울시 평균    나쁨\n",
       "...    ...  ..  ..     ...   ...\n",
       "9511  2020  12  27     중랑구    나쁨\n",
       "9512  2020  12  28     중랑구    나쁨\n",
       "9513  2020  12  29     중랑구    나쁨\n",
       "9514  2020  12  30     중랑구    좋음\n",
       "9515  2020  12  31     중랑구    좋음\n",
       "\n",
       "[9516 rows x 5 columns]"
      ]
     },
     "execution_count": 13,
     "metadata": {},
     "output_type": "execute_result"
    }
   ],
   "source": [
    "result.drop(['초미세먼지'], axis=1, inplace=True)\n",
    "result.rename(columns={\"등급\":\"초미세먼지\"},inplace=True)\n",
    "result"
   ]
  },
  {
   "cell_type": "code",
   "execution_count": 14,
   "metadata": {},
   "outputs": [],
   "source": [
    "store_path_dir = \"data/초미세먼지\"\n",
    "if os.path.isdir(store_path_dir)==False:\n",
    "    os.makedirs(store_path_dir)\n",
    "result.to_csv(\"{}/{}_초미세먼지.csv\".format(store_path_dir,year),index=False, encoding='cp949')"
   ]
  },
  {
   "cell_type": "code",
   "execution_count": 15,
   "metadata": {},
   "outputs": [
    {
     "data": {
      "text/plain": [
       "년        0\n",
       "월        0\n",
       "일        0\n",
       "자치구      0\n",
       "초미세먼지    0\n",
       "dtype: int64"
      ]
     },
     "execution_count": 15,
     "metadata": {},
     "output_type": "execute_result"
    }
   ],
   "source": [
    "result.isnull().sum()"
   ]
  },
  {
   "cell_type": "code",
   "execution_count": null,
   "metadata": {},
   "outputs": [],
   "source": []
  }
 ],
 "metadata": {
  "kernelspec": {
   "display_name": "Python [conda env:py38tensorflow]",
   "language": "python",
   "name": "conda-env-py38tensorflow-py"
  },
  "language_info": {
   "codemirror_mode": {
    "name": "ipython",
    "version": 3
   },
   "file_extension": ".py",
   "mimetype": "text/x-python",
   "name": "python",
   "nbconvert_exporter": "python",
   "pygments_lexer": "ipython3",
   "version": "3.8.5"
  }
 },
 "nbformat": 4,
 "nbformat_minor": 4
}
