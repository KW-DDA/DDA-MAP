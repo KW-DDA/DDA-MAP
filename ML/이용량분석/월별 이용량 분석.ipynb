{
 "cells": [
  {
   "cell_type": "code",
   "execution_count": 1,
   "metadata": {},
   "outputs": [],
   "source": [
    "import pandas as pd\n",
    "import matplotlib as mpl\n",
    "import matplotlib.pyplot as plt\n",
    "import seaborn as sns\n",
    "import numpy as np\n",
    "import warnings\n",
    "import string\n",
    "\n",
    "warnings.filterwarnings('ignore')\n",
    "\n",
    "mpl.rcParams['axes.unicode_minus'] = False\n",
    "plt.rcParams[\"font.family\"] = 'NanumGothic'"
   ]
  },
  {
   "cell_type": "markdown",
   "metadata": {},
   "source": [
    "# 분석할 년도 입력"
   ]
  },
  {
   "cell_type": "code",
   "execution_count": 2,
   "metadata": {},
   "outputs": [
    {
     "name": "stdout",
     "output_type": "stream",
     "text": [
      "분석할 년도를 입력하세요 : 2018\n"
     ]
    }
   ],
   "source": [
    "year=input('분석할 년도를 입력하세요 : ')"
   ]
  },
  {
   "cell_type": "code",
   "execution_count": 3,
   "metadata": {},
   "outputs": [],
   "source": [
    "path='data/요일별_분석/'"
   ]
  },
  {
   "cell_type": "markdown",
   "metadata": {},
   "source": [
    "# 대여이력 정보"
   ]
  },
  {
   "cell_type": "code",
   "execution_count": 4,
   "metadata": {},
   "outputs": [],
   "source": [
    "import os\n",
    "path =\"data/년월별/\""
   ]
  },
  {
   "cell_type": "code",
   "execution_count": 5,
   "metadata": {},
   "outputs": [],
   "source": [
    "month_ea=12\n",
    "for i in range(1, month_ea+1):\n",
    "    globals()['month_{}'.format(i)]=pd.read_csv(path+'{}_{}.csv'.format(year,i), encoding='cp949')"
   ]
  },
  {
   "cell_type": "markdown",
   "metadata": {},
   "source": [
    "# 월별 이용량"
   ]
  },
  {
   "cell_type": "markdown",
   "metadata": {},
   "source": [
    "## - 월별 전체 이용량"
   ]
  },
  {
   "cell_type": "code",
   "execution_count": 33,
   "metadata": {},
   "outputs": [
    {
     "name": "stdout",
     "output_type": "stream",
     "text": [
      "[156960, 1391230, 939865, 488855, 161724, 445592, 255947, 931743, 1130433, 1028519, 1007063, 1408333]\n"
     ]
    },
    {
     "data": {
      "image/png": "[encoded data removed]",
      "text/plain": [
       "<Figure size 432x288 with 1 Axes>"
      ]
     },
     "metadata": {
      "needs_background": "light"
     },
     "output_type": "display_data"
    },
    {
     "data": {
      "text/plain": [
       "<Figure size 864x360 with 0 Axes>"
      ]
     },
     "metadata": {},
     "output_type": "display_data"
    },
    {
     "name": "stdout",
     "output_type": "stream",
     "text": [
      "--------------------------\n",
      "대여 많은 순\n",
      "12월(1408333), 2월(1391230), 9월(1130433), 10월(1028519), 11월(1007063), 3월(939865), \n",
      "8월(931743), 4월(488855), 6월(445592), 7월(255947), 5월(161724), 1월(156960)\n"
     ]
    }
   ],
   "source": [
    "month_x=['1월','2월','3월','4월','5월','6월','7월','8월','9월','10월','11월','12월']\n",
    "month_y=[0,0,0,0,0,0,0,0,0,0,0, 0]\n",
    "for i in range(1, month_ea+1):\n",
    "    month_y[i-1]=len(globals()['month_{}'.format(i)])\n",
    "print(y)\n",
    "plt.bar(month_x,month_y)\n",
    "plt.title(\"{}년 : 월에 따른 이용량\".format(year))\n",
    "for i in range(0,12):\n",
    "    plt.text(i,month_y[i],month_y[i],fontsize = 5, color='blue',\n",
    "             horizontalalignment='center',  # horizontalalignment (left, center, right)\n",
    "             verticalalignment='bottom')    # verticalalignment (top, center, bottom\n",
    "plt.figure(figsize=(12,5))\n",
    "plt.tight_layout()\n",
    "plt.show()\n",
    "print('--------------------------')\n",
    "print('대여 많은 순')\n",
    "#대여 많은 순으로 정렬\n",
    "month_dict=dict(zip(month_x,month_y))\n",
    "month_dict=sorted(month_dict.items(),reverse=True,key = lambda item: item[1])\n",
    "for i in range(0,12):\n",
    "    if i==11:\n",
    "        print(\"{}({})\".format(month_dict[i][0],month_dict[i][1]))\n",
    "    else:\n",
    "        print(\"{}({})\".format(month_dict[i][0],month_dict[i][1]), end=', ')\n",
    "    if i==5:\n",
    "        print()"
   ]
  },
  {
   "cell_type": "code",
   "execution_count": null,
   "metadata": {},
   "outputs": [],
   "source": []
  }
 ],
 "metadata": {
  "kernelspec": {
   "display_name": "Python 3",
   "language": "python",
   "name": "python3"
  },
  "language_info": {
   "codemirror_mode": {
    "name": "ipython",
    "version": 3
   },
   "file_extension": ".py",
   "mimetype": "text/x-python",
   "name": "python",
   "nbconvert_exporter": "python",
   "pygments_lexer": "ipython3",
   "version": "3.8.5"
  }
 },
 "nbformat": 4,
 "nbformat_minor": 4
}
