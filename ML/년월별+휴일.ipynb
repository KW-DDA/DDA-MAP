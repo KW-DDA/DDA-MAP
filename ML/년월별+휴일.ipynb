{
 "cells": [
  {
   "cell_type": "code",
   "execution_count": 1,
   "metadata": {},
   "outputs": [],
   "source": [
    "import xlrd\n",
    "import openpyxl\n",
    "import pandas as pd\n",
    "import matplotlib as mpl\n",
    "import matplotlib.pyplot as plt\n",
    "import seaborn as sns\n",
    "import numpy as np\n",
    "import warnings\n",
    "import string\n",
    "import os\n",
    "from sklearn.impute import SimpleImputer\n",
    "\n",
    "warnings.filterwarnings('ignore')"
   ]
  },
  {
   "cell_type": "code",
   "execution_count": 2,
   "metadata": {},
   "outputs": [],
   "source": [
    "holiday_path = \"휴일_데이터셋/\"\n",
    "path = \"data/년월별/\""
   ]
  },
  {
   "cell_type": "code",
   "execution_count": 3,
   "metadata": {},
   "outputs": [
    {
     "name": "stdout",
     "output_type": "stream",
     "text": [
      "enter a year: 2020\n"
     ]
    }
   ],
   "source": [
    "year = input(\"enter a year: \")\n",
    "\n",
    "import os\n",
    "\n",
    "month_ea = 12\n",
    "for i in range(1, month_ea+1):\n",
    "        globals()['month_{}'.format(i)] = pd.read_csv(path+'{}_{}.csv'.format(year,i), encoding='cp949')"
   ]
  },
  {
   "cell_type": "code",
   "execution_count": 4,
   "metadata": {},
   "outputs": [],
   "source": [
    "globals()['휴일_{}'.format(year)] = pd.read_csv(holiday_path+'휴일_{}.csv'.format(year), encoding='cp949')\n",
    "globals()['휴일_{}'.format(year)].drop(['holiday','년'], axis=1 ,inplace=True)\n",
    "globals()['휴일_{}'.format(year)]['휴일'] = int(1)"
   ]
  },
  {
   "cell_type": "code",
   "execution_count": 5,
   "metadata": {
    "scrolled": false
   },
   "outputs": [],
   "source": [
    "for i in range(1, month_ea+1):\n",
    "        globals()['month_{}'.format(i)].drop(['대여대여소명','대여거치대','이용시간','이용거리','반납대여소번호','반납대여소명','반납거치대', '반납년', '반납월', '반납일', '반납시', '반납요일', '반납 지역', '반납대여소 위도', '반납대여소 경도','대여대여소 위도','대여대여소 경도'], axis=1, inplace=True)"
   ]
  },
  {
   "cell_type": "code",
   "execution_count": 6,
   "metadata": {},
   "outputs": [],
   "source": [
    "for i in range(1, month_ea+1): # make 년월일시\n",
    "    cols = ['대여년','대여월','대여일','대여시']\n",
    "    globals()['month_{}'.format(i)]['년월일시'] = globals()['month_{}'.format(i)][cols].apply(lambda row: '-'.join(row.values.astype(str)), axis=1)"
   ]
  },
  {
   "cell_type": "code",
   "execution_count": 7,
   "metadata": {
    "scrolled": true
   },
   "outputs": [],
   "source": [
    "for i in range(1, month_ea+1): # merge 휴일, 년월별\n",
    "    globals()['df_{}'.format(i)] = pd.merge(left=globals()['month_{}'.format(i)],\n",
    "                                           right=globals()['휴일_{}'.format(year)],\n",
    "                                           left_on=['대여월', '대여일'],\n",
    "                                           right_on=['월','일'],\n",
    "                                           how='left',\n",
    "                                           sort='False') "
   ]
  },
  {
   "cell_type": "code",
   "execution_count": 8,
   "metadata": {
    "scrolled": true
   },
   "outputs": [],
   "source": [
    "for i in range(1, month_ea+1): # 휴일 판별, 필요없는 거 drop\n",
    "    globals()['df_{}'.format(i)]['휴일'].fillna(0, inplace=True) #휴일이 아니면 0\n",
    "    globals()['df_{}'.format(i)].loc[(globals()['df_{}'.format(i)]['휴일'] != 0), '휴일'] = 1\n",
    "    globals()['df_{}'.format(i)].drop(['대여년','대여월','대여일','대여시','대여요일','월','일'], \n",
    "                                      axis=1, inplace=True)"
   ]
  },
  {
   "cell_type": "code",
   "execution_count": 9,
   "metadata": {},
   "outputs": [],
   "source": [
    "for i in range(1, month_ea+1): # 대여수 추가\n",
    "    globals()['df_{}'.format(i)]['대여수'] = 1\n",
    "    globals()['groupby_{}'.format(i)] = globals()['df_{}'.format(i)].set_index(['대여대여소번호','년월일시']).groupby(['대여대여소번호', '년월일시']).sum()"
   ]
  },
  {
   "cell_type": "code",
   "execution_count": 10,
   "metadata": {
    "scrolled": true
   },
   "outputs": [],
   "source": [
    "for i in range(1, month_ea+1): # 휴일 원래대로\n",
    "    globals()['groupby_{}'.format(i)].loc[(globals()['groupby_{}'.format(i)]['휴일'] != 0), '휴일'] = 1\n",
    "    globals()['groupby_{}'.format(i)].reset_index(level=['대여대여소번호','년월일시'], inplace=True)"
   ]
  },
  {
   "cell_type": "code",
   "execution_count": 11,
   "metadata": {
    "scrolled": true
   },
   "outputs": [],
   "source": [
    "for i in range(1, month_ea+1): # csv로 저장\n",
    "    globals()['groupby_{}'.format(i)].to_csv('년월별+휴일/년월별+휴일_{}_{}.csv'.format(year,i), \n",
    "                                             encoding='cp949', index=False)"
   ]
  }
 ],
 "metadata": {
  "kernelspec": {
   "display_name": "Python 3",
   "language": "python",
   "name": "python3"
  },
  "language_info": {
   "codemirror_mode": {
    "name": "ipython",
    "version": 3
   },
   "file_extension": ".py",
   "mimetype": "text/x-python",
   "name": "python",
   "nbconvert_exporter": "python",
   "pygments_lexer": "ipython3",
   "version": "3.8.5"
  }
 },
 "nbformat": 4,
 "nbformat_minor": 4
}
