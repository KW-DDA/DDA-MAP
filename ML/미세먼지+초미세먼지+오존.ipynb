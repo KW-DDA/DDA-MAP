{
 "cells": [
  {
   "cell_type": "code",
   "execution_count": 4,
   "metadata": {},
   "outputs": [],
   "source": [
    "import xlrd\n",
    "import openpyxl\n",
    "import pandas as pd\n",
    "import matplotlib as mpl\n",
    "import matplotlib.pyplot as plt\n",
    "import seaborn as sns\n",
    "import numpy as np\n",
    "import warnings\n",
    "import string\n",
    "import os\n",
    "warnings.filterwarnings('ignore')"
   ]
  },
  {
   "cell_type": "code",
   "execution_count": 5,
   "metadata": {},
   "outputs": [
    {
     "name": "stdout",
     "output_type": "stream",
     "text": [
      "원하는 년도 입력: 2018\n"
     ]
    }
   ],
   "source": [
    "year = input(\"원하는 년도 입력: \")\n",
    "\n",
    "path_dir = \"가공3/\"+year+\"/\"\n",
    "file_list = os.listdir(path_dir)\n",
    "\n",
    "dust = pd.read_csv(path_dir+file_list[0], encoding='cp949') #미세먼지\n",
    "ozone = pd.read_csv(path_dir+file_list[1], encoding='cp949') #오존\n",
    "fine_dust = pd.read_csv(path_dir+file_list[2], encoding='cp949') #초미세먼지"
   ]
  },
  {
   "cell_type": "code",
   "execution_count": 11,
   "metadata": {},
   "outputs": [
    {
     "name": "stdout",
     "output_type": "stream",
     "text": [
      "9490\n",
      "9490\n",
      "         년   월   일     자치구  오존 초미세먼지\n",
      "0     2018   1   1  서울시 평균  좋음    보통\n",
      "1     2018   1   2  서울시 평균  좋음    보통\n",
      "2     2018   1   3  서울시 평균  좋음    보통\n",
      "3     2018   1   4  서울시 평균  좋음    보통\n",
      "4     2018   1   5  서울시 평균  좋음    나쁨\n",
      "...    ...  ..  ..     ...  ..   ...\n",
      "9485  2018  12  27     중랑구  좋음    좋음\n",
      "9486  2018  12  28     중랑구  좋음    좋음\n",
      "9487  2018  12  29     중랑구  좋음    좋음\n",
      "9488  2018  12  30     중랑구  좋음    보통\n",
      "9489  2018  12  31     중랑구  좋음    보통\n",
      "\n",
      "[9490 rows x 6 columns]\n"
     ]
    }
   ],
   "source": [
    "temp = pd.merge(left=ozone, right=fine_dust, how='left', on=['년','월','일','자치구'], sort=False)\n",
    "#temp = pd.merge(left=temp, right=dust, how='left',on=['년','월','일','자치구'], sort=False)\n",
    "#temp.to_csv(\"가공3/\"+\"temp.csv\", encoding='cp949')"
   ]
  },
  {
   "cell_type": "code",
   "execution_count": 16,
   "metadata": {},
   "outputs": [
    {
     "data": {
      "text/plain": [
       "년       0\n",
       "월       0\n",
       "일       0\n",
       "자치구     0\n",
       "미세먼지    0\n",
       "dtype: int64"
      ]
     },
     "execution_count": 16,
     "metadata": {},
     "output_type": "execute_result"
    }
   ],
   "source": []
  }
 ],
 "metadata": {
  "kernelspec": {
   "display_name": "Python 3",
   "language": "python",
   "name": "python3"
  },
  "language_info": {
   "codemirror_mode": {
    "name": "ipython",
    "version": 3
   },
   "file_extension": ".py",
   "mimetype": "text/x-python",
   "name": "python",
   "nbconvert_exporter": "python",
   "pygments_lexer": "ipython3",
   "version": "3.8.5"
  }
 },
 "nbformat": 4,
 "nbformat_minor": 4
}
